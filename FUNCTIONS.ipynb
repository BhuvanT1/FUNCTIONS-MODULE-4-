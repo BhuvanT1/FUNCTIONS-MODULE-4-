{
  "nbformat": 4,
  "nbformat_minor": 0,
  "metadata": {
    "colab": {
      "provenance": []
    },
    "kernelspec": {
      "name": "python3",
      "display_name": "Python 3"
    },
    "language_info": {
      "name": "python"
    }
  },
  "cells": [
    {
      "cell_type": "markdown",
      "source": [
        "#Theory Questions:"
      ],
      "metadata": {
        "id": "VgTkdz1u63Mv"
      }
    },
    {
      "cell_type": "code",
      "source": [],
      "metadata": {
        "id": "Znv8euxj7oN0"
      },
      "execution_count": null,
      "outputs": []
    },
    {
      "cell_type": "markdown",
      "source": [
        "#Q1. What is the difference between a function and a method in Python?\n",
        "    -> A function is a block of code that performs a specific task and can be called independently whereas A method is a function that is associated with an object and is called on that object.\n",
        "    Ex:\n",
        "\n",
        "    def greet():\n",
        "    return \"Hello!\"\n",
        "\n",
        "    print(greet()) #this is Function\n",
        "\n",
        "    class Person:\n",
        "         def greet(self):\n",
        "          return \"Hello!\"\n",
        "\n",
        "    p = Person()\n",
        "    print(p.greet())  # this is Method\n",
        "\n",
        "\n",
        "#Q2. Explain the concept of function arguments and parameters in Python.\n",
        "    \n",
        "    -> Parameters are variables in the function definition, while arguments are the values passed to the function.    \n",
        "    Ex-\n",
        "    def add(a, b):  # Parameters\n",
        "    return a + b\n",
        "\n",
        "    print(add(2, 3))  # Arguments\n",
        "\n",
        "\n",
        "\n",
        "\n",
        "\n",
        "\n",
        "\n",
        "\n",
        "\n",
        "#Q4.What is the purpose of the return statement in a Python function?\n",
        "\n",
        "    -> The return statement exits a function and provides a result.\n",
        "    Ex-\n",
        "    def double(x):\n",
        "    return x * 2\n",
        "\n",
        "  print(double(4))\n",
        "\n",
        "#Q5. What are iterators in Python and how do they differ from iterables?\n",
        "\n",
        "    -> Iterators generate values one at a time whereas iterables can be looped over.  \n",
        "    Ex-\n",
        "    a_list = [1, 2, 3]\n",
        "\n",
        "    a_iter = iter(my_list)\n",
        "    print(next(a_iter))\n",
        "\n",
        "#Q6. Explain the concept of generators in Python and how they are defined.\n",
        "\n",
        "    -> Generators produce items one at a time using yield.\n",
        "    Ex-\n",
        "    def count_up(n):\n",
        "    for i in range(n):\n",
        "        yield i\n",
        "\n",
        "    for number in count_up(3):\n",
        "      print(number)  \n",
        "\n",
        "\n",
        "#Q7. What are the advantages of using generators over regular functions?\n",
        "\n",
        "    -> Generators are memory efficient, as they yield items one at a time and only when needed, unlike regular functions that return all values at once.  \n",
        "    Ex-\n",
        "    def generate_numbers():\n",
        "       for i in range(5):\n",
        "          yield i\n",
        "\n",
        "    for num in generate_numbers():\n",
        "       print(num)  \n",
        "\n",
        "\n",
        "#Q8. What is a lambda function in Python and when is it typically used?\n",
        "\n",
        "    -> Lambda functions are small, anonymous functions defined using the lambda keyword. They are used for creating small, throwaway functions without the need to formally define a function using def.\n",
        "    Ex-\n",
        "    \n",
        "    add = lambda x, y: x + y\n",
        "    print(add(2, 3))  \n",
        "\n",
        "\n",
        "#Q9.Explain the purpose and usage of the map() function in Python.\n",
        "    -> The map() function applies a given function to all items in an iterable  and returns a map object .\n",
        "    Ex-\n",
        "    def square(x):\n",
        "     return x * x\n",
        "\n",
        "     numbers = [1, 2, 3, 4]\n",
        "     squared_numbers = map(square, numbers)\n",
        "     print(list(squared_numbers))  \n",
        "\n",
        "\n",
        "#Q10. What is the difference between map(), reduce(), and filter() functions in Python?\n",
        "    -> map() applies a function to all items in an iterable, filter() creates a new iterable with items that meet a condition, and reduce() applies a function cumulatively to items in an iterable to reduce them to a single value.\n",
        "\n",
        "    Ex-\n",
        "    from functools import reduce\n",
        "\n",
        "    # map()\n",
        "    numbers = [1, 2, 3, 4]\n",
        "    squared = list(map(lambda x: x * x, numbers))\n",
        "    print(squared)  \n",
        "\n",
        "    # filter()\n",
        "    even = list(filter(lambda x: x % 2 == 0, numbers))\n",
        "    print(even)\n",
        "\n",
        "    # reduce()\n",
        "    sum_all = reduce(lambda x, y: x + y, numbers)\n",
        "    print(sum_all)  \n"
      ],
      "metadata": {
        "id": "i92JS-Eb7ouT"
      }
    },
    {
      "cell_type": "markdown",
      "source": [
        "#Q11.Using pen & Paper write the internal mechanism for sum operation using  reduce function on this given list:[47,11,42,13];\n",
        "    \n",
        "    ->**ATTACHED THE IMAGE AS PDF IN THE MAIN GOOGLE-DOC ITSELF.**\n",
        "\n"
      ],
      "metadata": {
        "id": "Tud-jXr3SOig"
      }
    },
    {
      "cell_type": "code",
      "source": [
        "#Q1. Write a Python function that takes a list of numbers as input and returns the sum of all even numbers in the list\n",
        "def sum_even_numbers(numbers):\n",
        "    return sum(num for num in numbers if num % 2 == 0)\n",
        "\n",
        "print(sum_even_numbers([1, 2, 3, 4, 5, 6]))"
      ],
      "metadata": {
        "colab": {
          "base_uri": "https://localhost:8080/"
        },
        "id": "Z_sPIKhnT42Z",
        "outputId": "62ec9d9b-8dff-4426-e568-861f9d2e4657"
      },
      "execution_count": 2,
      "outputs": [
        {
          "output_type": "stream",
          "name": "stdout",
          "text": [
            "12\n"
          ]
        }
      ]
    },
    {
      "cell_type": "code",
      "source": [
        "#Q2. Create a Python function that accepts a string and returns the reverse of that string\n",
        "\n",
        "def reverse_string(s):\n",
        "    return s[::-1]\n",
        "\n",
        "print(reverse_string(\"hello\"))\n"
      ],
      "metadata": {
        "colab": {
          "base_uri": "https://localhost:8080/"
        },
        "id": "u5SC0p5UUJdi",
        "outputId": "11b088bd-ac8c-4eec-9135-5d7f154f582f"
      },
      "execution_count": 4,
      "outputs": [
        {
          "output_type": "stream",
          "name": "stdout",
          "text": [
            "olleh\n"
          ]
        }
      ]
    },
    {
      "cell_type": "code",
      "source": [
        "#Q3. Implement a Python function that takes a list of integers and returns a new list containing the squares of each number\n",
        "\n",
        "def square_numbers(numbers):\n",
        "    return [num ** 2 for num in numbers]\n",
        "\n",
        "print(square_numbers([1, 2, 3, 4]))\n"
      ],
      "metadata": {
        "colab": {
          "base_uri": "https://localhost:8080/"
        },
        "id": "PJ6S71G7UjiQ",
        "outputId": "674993d8-f8d5-4444-d402-0bb59c57ec67"
      },
      "execution_count": 5,
      "outputs": [
        {
          "output_type": "stream",
          "name": "stdout",
          "text": [
            "[1, 4, 9, 16]\n"
          ]
        }
      ]
    },
    {
      "cell_type": "code",
      "source": [
        "#Q4. Write a Python function that checks if a given number is prime or not from 1 to 200\n",
        "def is_prime(num):\n",
        "    if num <= 1:\n",
        "        return False\n",
        "    for i in range(2, num):\n",
        "        if num % i == 0:\n",
        "            return False\n",
        "    return True\n",
        "\n",
        "print(is_prime(17))\n",
        "print(is_prime(18))\n"
      ],
      "metadata": {
        "colab": {
          "base_uri": "https://localhost:8080/"
        },
        "id": "Xe61UZcAUqOr",
        "outputId": "996a5405-628c-4b4c-daa0-300e6b55fdc2"
      },
      "execution_count": 6,
      "outputs": [
        {
          "output_type": "stream",
          "name": "stdout",
          "text": [
            "True\n",
            "False\n"
          ]
        }
      ]
    },
    {
      "cell_type": "code",
      "source": [
        "#Q5. Create an iterator class in Python that generates the Fibonacci sequence up to a specified number of terms\n",
        "class Fibonacci:\n",
        "    def __init__(self, terms):\n",
        "        self.terms = terms\n",
        "        self.a, self.b = 0, 1\n",
        "        self.count = 0\n",
        "\n",
        "    def __iter__(self):\n",
        "        return self\n",
        "\n",
        "    def __next__(self):\n",
        "        if self.count < self.terms:\n",
        "            fib = self.a\n",
        "            self.a, self.b = self.b, self.a + self.b\n",
        "            self.count += 1\n",
        "            return fib\n",
        "        else:\n",
        "            raise StopIteration\n",
        "\n",
        "fib_iterator = Fibonacci(5)\n",
        "for num in fib_iterator:\n",
        "    print(num)\n"
      ],
      "metadata": {
        "colab": {
          "base_uri": "https://localhost:8080/"
        },
        "id": "z9KOXee9U0ZU",
        "outputId": "79c488f1-be7c-4384-dcd4-0f59b4da6399"
      },
      "execution_count": 7,
      "outputs": [
        {
          "output_type": "stream",
          "name": "stdout",
          "text": [
            "0\n",
            "1\n",
            "1\n",
            "2\n",
            "3\n"
          ]
        }
      ]
    },
    {
      "cell_type": "code",
      "source": [
        "#Q6. Write a generator function in Python that yields the powers of 2 up to a given exponent\n",
        "def powers_of_2(exponent):\n",
        "    for i in range(exponent + 1):\n",
        "        yield 2 ** i\n",
        "\n",
        "for power in powers_of_2(4):\n",
        "    print(power)\n"
      ],
      "metadata": {
        "colab": {
          "base_uri": "https://localhost:8080/"
        },
        "id": "6ye0Ksy_U8U3",
        "outputId": "20a2cf96-42f3-4933-b795-e584a13d55b1"
      },
      "execution_count": 8,
      "outputs": [
        {
          "output_type": "stream",
          "name": "stdout",
          "text": [
            "1\n",
            "2\n",
            "4\n",
            "8\n",
            "16\n"
          ]
        }
      ]
    },
    {
      "cell_type": "code",
      "source": [
        "#Q7. Implement a generator function that reads a file line by line and yields each line as a string\n",
        "def read_lines(file_path):\n",
        "    with open(file_path, 'r') as file:\n",
        "        for line in file:\n",
        "            yield line.strip()\n"
      ],
      "metadata": {
        "id": "8RCAAzbLVE-w"
      },
      "execution_count": 9,
      "outputs": []
    },
    {
      "cell_type": "code",
      "source": [
        "#Q8. Use a lambda function in Python to sort a list of tuples based on the second element of each tuple\n",
        "tuples = [(1, 'banana'), (2, 'apple'), (3, 'cherry')]\n",
        "sorted_tuples = sorted(tuples, key=lambda x: x[1])\n",
        "print(sorted_tuples)\n"
      ],
      "metadata": {
        "colab": {
          "base_uri": "https://localhost:8080/"
        },
        "id": "x3fIvItSVWfG",
        "outputId": "e746bb0f-767f-4d93-eed4-1633905f870a"
      },
      "execution_count": 10,
      "outputs": [
        {
          "output_type": "stream",
          "name": "stdout",
          "text": [
            "[(2, 'apple'), (1, 'banana'), (3, 'cherry')]\n"
          ]
        }
      ]
    },
    {
      "cell_type": "code",
      "source": [
        "#Q9. Write a Python program that uses map() to convert a list of temperatures from Celsius to Fahrenheit\n",
        "def celsius_to_fahrenheit(celsius):\n",
        "    return (celsius * 9/5) + 32\n",
        "\n",
        "celsius_temps = [0, 20, 37, 100]\n",
        "fahrenheit_temps = list(map(celsius_to_fahrenheit, celsius_temps))\n",
        "print(fahrenheit_temps)\n"
      ],
      "metadata": {
        "colab": {
          "base_uri": "https://localhost:8080/"
        },
        "id": "ol9M6OuwVgd3",
        "outputId": "ff4debf4-6a64-4c78-b7fa-56be3d120066"
      },
      "execution_count": 11,
      "outputs": [
        {
          "output_type": "stream",
          "name": "stdout",
          "text": [
            "[32.0, 68.0, 98.6, 212.0]\n"
          ]
        }
      ]
    },
    {
      "cell_type": "code",
      "source": [
        "#Q10.Create a Python program that uses filter() to remove all the vowels from a given string.\n",
        "def is_not_vowel(char):\n",
        "    return char.lower() not in 'aeiou'\n",
        "\n",
        "input_str = \"Hello World\"\n",
        "filtered_str = ''.join(filter(is_not_vowel, input_str))\n",
        "print(filtered_str)"
      ],
      "metadata": {
        "colab": {
          "base_uri": "https://localhost:8080/"
        },
        "id": "gFPRsoZ2Volw",
        "outputId": "ddecec77-969c-4261-afb1-e878b0668e6e"
      },
      "execution_count": 12,
      "outputs": [
        {
          "output_type": "stream",
          "name": "stdout",
          "text": [
            "Hll Wrld\n"
          ]
        }
      ]
    },
    {
      "cell_type": "code",
      "source": [
        "#Q11) Imagine an accounting routine used in a book shop. It works on a list with sublists, which look like this:\n",
        "\n",
        "\n",
        "orders = [\n",
        "    [34587, \"Learning Python, Mark Lutz\", 4, 40.95],\n",
        "    [98762, \"Programming Python, Mark Lutz\", 5, 56.80],\n",
        "    [77226, \"Head First Python, Paul Barry\", 3, 32.95],\n",
        "    [88112, \"Einführung in Python3, Bernd Klein\", 3, 24.99]\n",
        "]\n",
        "\n",
        "result = list(map(lambda x: (x[0], x[2] * x[3] + 10 if x[2] * x[3] < 100 else x[2] * x[3]), orders))\n",
        "\n",
        "print(result)\n",
        "\n"
      ],
      "metadata": {
        "colab": {
          "base_uri": "https://localhost:8080/"
        },
        "id": "LD4yisOIV1Sl",
        "outputId": "728b5791-ad78-4d76-efde-7e5b651d4370"
      },
      "execution_count": 15,
      "outputs": [
        {
          "output_type": "stream",
          "name": "stdout",
          "text": [
            "[(34587, 163.8), (98762, 284.0), (77226, 108.85000000000001), (88112, 84.97)]\n"
          ]
        }
      ]
    },
    {
      "cell_type": "code",
      "source": [],
      "metadata": {
        "id": "xCxB1gKaXkRd"
      },
      "execution_count": null,
      "outputs": []
    }
  ]
}